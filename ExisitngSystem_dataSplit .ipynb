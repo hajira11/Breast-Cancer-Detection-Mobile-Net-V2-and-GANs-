{
 "cells": [
  {
   "cell_type": "markdown",
   "id": "87c3ed8f-91ff-4a90-814e-2de07438a28f",
   "metadata": {},
   "source": [
    "This code is for splitting data for replicating the exisiting system"
   ]
  },
  {
   "cell_type": "code",
   "execution_count": 2,
   "id": "46f459b8-f6db-4d0c-8303-af6eca731aae",
   "metadata": {},
   "outputs": [
    {
     "name": "stdout",
     "output_type": "stream",
     "text": [
      "Requirement already satisfied: split-folders in /Users/hajirasamrin/opt/anaconda3/lib/python3.10/site-packages (0.5.1)\n",
      "Note: you may need to restart the kernel to use updated packages.\n"
     ]
    }
   ],
   "source": [
    "pip install split-folders"
   ]
  },
  {
   "cell_type": "code",
   "execution_count": 3,
   "id": "a6747e2c-7cd2-4bfe-9ff7-0ffde17b5df6",
   "metadata": {},
   "outputs": [],
   "source": [
    "import splitfolders\n",
    "import os"
   ]
  },
  {
   "cell_type": "code",
   "execution_count": 4,
   "id": "c6b40551-2a0a-4bb5-bf5b-7fd7c79b94cf",
   "metadata": {},
   "outputs": [
    {
     "name": "stdout",
     "output_type": "stream",
     "text": [
      "['.DS_Store', 'malignant', 'benign', 'normal', '.ipynb_checkpoints', 'normal_512', 'benign_512', 'malignant_512']\n"
     ]
    }
   ],
   "source": [
    "path = \"Dataset_V2/\"\n",
    "print(os.listdir(path))"
   ]
  },
  {
   "cell_type": "code",
   "execution_count": 6,
   "id": "644f55c9-4e0d-468d-bcb0-e4892eed2702",
   "metadata": {},
   "outputs": [
    {
     "name": "stdout",
     "output_type": "stream",
     "text": [
      "[Errno 2] No such file or directory: 'Desktop/middlesex/Dataset_NewData'\n",
      "/Users/hajirasamrin/Desktop/middlesex/CST4090_Project/dataset\n"
     ]
    }
   ],
   "source": [
    "cd \"Desktop/middlesex/Dataset_NewData\""
   ]
  },
  {
   "cell_type": "code",
   "execution_count": 5,
   "id": "a61b8b60-5169-44af-9c1e-c31dec7624f9",
   "metadata": {},
   "outputs": [
    {
     "name": "stderr",
     "output_type": "stream",
     "text": [
      "Copying files: 780 files [00:00, 1327.33 files/s]\n"
     ]
    }
   ],
   "source": [
    "splitfolders.ratio(path,seed=1337, output=\"Dataset-Splitted_TrainTest\", ratio=(0.8, 0.2))"
   ]
  },
  {
   "cell_type": "code",
   "execution_count": null,
   "id": "35fb2e1f-aed2-40df-a8b3-9f3525bcab8b",
   "metadata": {},
   "outputs": [],
   "source": []
  }
 ],
 "metadata": {
  "kernelspec": {
   "display_name": "Python 3 (ipykernel)",
   "language": "python",
   "name": "python3"
  },
  "language_info": {
   "codemirror_mode": {
    "name": "ipython",
    "version": 3
   },
   "file_extension": ".py",
   "mimetype": "text/x-python",
   "name": "python",
   "nbconvert_exporter": "python",
   "pygments_lexer": "ipython3",
   "version": "3.10.11"
  }
 },
 "nbformat": 4,
 "nbformat_minor": 5
}
